{
  "nbformat": 4,
  "nbformat_minor": 0,
  "metadata": {
    "colab": {
      "name": "digit_perceptron.ipynb",
      "provenance": [],
      "collapsed_sections": []
    },
    "kernelspec": {
      "name": "python3",
      "display_name": "Python 3"
    }
  },
  "cells": [
    {
      "cell_type": "code",
      "metadata": {
        "id": "eEia5DKWqwAj",
        "outputId": "01f6698b-dd00-4d5b-a72b-6eb4d8cd6ce5",
        "colab": {
          "base_uri": "https://localhost:8080/",
          "height": 34
        }
      },
      "source": [
        "from sklearn.datasets import fetch_openml\n",
        "from sklearn.metrics import accuracy_score\n",
        "import numpy as np\n",
        "import pandas as pd\n",
        "from sklearn.model_selection import train_test_split\n",
        "X,Y=fetch_openml('mnist_784',version=1,return_X_y=True)\n",
        "X_train,X_test,Y_train,Y_test=train_test_split(X,Y,test_size=0.10,stratify=Y,random_state=1)\n",
        "X_train.shape[0]\n"
      ],
      "execution_count": null,
      "outputs": [
        {
          "output_type": "execute_result",
          "data": {
            "text/plain": [
              "63000"
            ]
          },
          "metadata": {
            "tags": []
          },
          "execution_count": 1
        }
      ]
    },
    {
      "cell_type": "code",
      "metadata": {
        "id": "CUhvMZ_lrnXG"
      },
      "source": [
        "X_train=np.array(X_train)\n",
        "X_test=np.array(X_test)\n",
        "Y_train=np.array(Y_train)\n",
        "Y_test=np.array(Y_test)\n",
        "Y_train=Y_train.astype(np.int)\n",
        "Y_test=Y_test.astype(np.int)"
      ],
      "execution_count": null,
      "outputs": []
    },
    {
      "cell_type": "code",
      "metadata": {
        "id": "mKNTO3qpLRD7",
        "outputId": "667c1dcc-2722-4373-e18e-8468e7da0d42",
        "colab": {
          "base_uri": "https://localhost:8080/",
          "height": 34
        }
      },
      "source": [
        "Y_train[0]"
      ],
      "execution_count": null,
      "outputs": [
        {
          "output_type": "execute_result",
          "data": {
            "text/plain": [
              "0"
            ]
          },
          "metadata": {
            "tags": []
          },
          "execution_count": 5
        }
      ]
    },
    {
      "cell_type": "code",
      "metadata": {
        "id": "qSoGCvNhLje9",
        "outputId": "f0654d8a-c3f6-460a-c2ad-814cb0b953cb",
        "colab": {
          "base_uri": "https://localhost:8080/",
          "height": 34
        }
      },
      "source": [
        "Y_train[1]"
      ],
      "execution_count": null,
      "outputs": [
        {
          "output_type": "execute_result",
          "data": {
            "text/plain": [
              "8"
            ]
          },
          "metadata": {
            "tags": []
          },
          "execution_count": 6
        }
      ]
    },
    {
      "cell_type": "code",
      "metadata": {
        "id": "7WOr17M-LuRj",
        "outputId": "b4a1f313-7526-4e34-eaf4-40938672abfe",
        "colab": {
          "base_uri": "https://localhost:8080/",
          "height": 34
        }
      },
      "source": [
        "Y_test[0]"
      ],
      "execution_count": null,
      "outputs": [
        {
          "output_type": "execute_result",
          "data": {
            "text/plain": [
              "2"
            ]
          },
          "metadata": {
            "tags": []
          },
          "execution_count": 8
        }
      ]
    },
    {
      "cell_type": "code",
      "metadata": {
        "id": "B_dF2qvKLv20"
      },
      "source": [
        "Y_bin_train=[]\n",
        "for i in Y_train:\n",
        "  if i==0:\n",
        "    x=1\n",
        "    Y_bin_train.append(x) \n",
        "  else:\n",
        "    x=0\n",
        "    Y_bin_train.append(x) \n",
        "Y_bin_test=[]\n",
        "for i in Y_test:\n",
        "  if i==0:\n",
        "    x=1\n",
        "    Y_bin_test.append(x) \n",
        "  else:\n",
        "    x=0\n",
        "    Y_bin_test.append(x) "
      ],
      "execution_count": null,
      "outputs": []
    },
    {
      "cell_type": "code",
      "metadata": {
        "id": "2AT0p4cLL6cN",
        "outputId": "b7d8754c-dc6a-4731-9bee-d530f8574aa7",
        "colab": {
          "base_uri": "https://localhost:8080/",
          "height": 34
        }
      },
      "source": [
        ""
      ],
      "execution_count": null,
      "outputs": [
        {
          "output_type": "execute_result",
          "data": {
            "text/plain": [
              "(1, 0)"
            ]
          },
          "metadata": {
            "tags": []
          },
          "execution_count": 20
        }
      ]
    },
    {
      "cell_type": "code",
      "metadata": {
        "id": "xJqhP59lMfbo"
      },
      "source": [
        "class Perceptron:\n",
        "    def __init__(self):\n",
        "        self.w=None\n",
        "        self.b=None\n",
        "    \n",
        "    def Model(self,x):\n",
        "        res =1 if np.dot(self.w,x)>=self.b else 0\n",
        "        return res\n",
        "    \n",
        "    def predict(self,x):\n",
        "        y=[]\n",
        "        for i in x:\n",
        "            result=self.Model(i)\n",
        "            y.append(result)\n",
        "        return np.array(y)\n",
        "    \n",
        "    def fit(self ,X, Y, epochs, learning):\n",
        "        self.w=np.ones(X.shape[1],dtype=int)\n",
        "        self.b=0\n",
        "        weights=[]\n",
        "        accuracy={}\n",
        "        for m in range(epochs):\n",
        "            for i,j in zip(X,Y):\n",
        "                y_pred=self.Model(i)\n",
        "                if j==1 and y_pred==0:\n",
        "                    self.w=self.w+i*learning\n",
        "                    self.b=self.b+1\n",
        "                elif j==0 and y_pred==1:\n",
        "                    self.w=self.w-i*learning\n",
        "                    self.b=self.b-1\n",
        "            weights.append(self.w)\n",
        "            accuracy[m]=accuracy_score(self.predict(X),Y)\n",
        "        return accuracy\n"
      ],
      "execution_count": null,
      "outputs": []
    },
    {
      "cell_type": "code",
      "metadata": {
        "id": "qEiOaamAMxN_",
        "outputId": "825a6d3f-9ae2-41bf-e316-4f34a0d1712e",
        "colab": {
          "base_uri": "https://localhost:8080/",
          "height": 34
        }
      },
      "source": [
        "per=Perceptron()\n",
        "acc=per.fit(X_train,Y_bin_train,1000,0.25)\n",
        "ind=max(acc,key=acc.get)\n",
        "ind,acc[ind]"
      ],
      "execution_count": null,
      "outputs": [
        {
          "output_type": "execute_result",
          "data": {
            "text/plain": [
              "(391, 0.9927142857142857)"
            ]
          },
          "metadata": {
            "tags": []
          },
          "execution_count": 11
        }
      ]
    },
    {
      "cell_type": "code",
      "metadata": {
        "id": "4yscgklEM7Su",
        "outputId": "7f24e1d4-f02c-4cdb-a74d-954a71abe25d",
        "colab": {
          "base_uri": "https://localhost:8080/",
          "height": 34
        }
      },
      "source": [
        "res=accuracy_score(per.predict(X_test),Y_bin_test)\n",
        "res"
      ],
      "execution_count": null,
      "outputs": [
        {
          "output_type": "execute_result",
          "data": {
            "text/plain": [
              "0.9891428571428571"
            ]
          },
          "metadata": {
            "tags": []
          },
          "execution_count": 13
        }
      ]
    }
  ]
}